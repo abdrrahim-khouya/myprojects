{
 "cells": [
  {
   "cell_type": "markdown",
   "id": "important-portal",
   "metadata": {
    "papermill": {
     "duration": 0.02461,
     "end_time": "2021-05-17T17:45:54.399590",
     "exception": false,
     "start_time": "2021-05-17T17:45:54.374980",
     "status": "completed"
    },
    "tags": []
   },
   "source": [
    "Groupe du Projet :\n",
    "\n",
    "KHOUYA Abdrrahim, \n",
    "ELMALKI Khawla,\n",
    "BELAIDI Jugurta,\n",
    "GHERBI Rabah,"
   ]
  },
  {
   "cell_type": "raw",
   "id": "d443aa34",
   "metadata": {},
   "source": [
    "Dans ce projet, nous avons essayé d'aborder la tâche de détection de la langue avec deux approches différentes ou deux classificateurs, modèles, Nous utilisons le modèle de régression logistique et le modèle Naive Bayes."
   ]
  },
  {
   "cell_type": "markdown",
   "id": "1c24fd25",
   "metadata": {},
   "source": [
    "# Sources des textes "
   ]
  },
  {
   "cell_type": "code",
   "execution_count": 287,
   "id": "56e45681",
   "metadata": {},
   "outputs": [],
   "source": [
    "#Tous les textes utilisés dans ce projet sont tirés au hasard du web, notamment l'encyclopédie wikipedia,\n",
    "#et quelques differents sites,"
   ]
  },
  {
   "cell_type": "markdown",
   "id": "da45a67e",
   "metadata": {},
   "source": [
    "#  Les modules importants"
   ]
  },
  {
   "cell_type": "code",
   "execution_count": 288,
   "id": "electronic-quebec",
   "metadata": {
    "execution": {
     "iopub.execute_input": "2021-05-17T17:45:54.460638Z",
     "iopub.status.busy": "2021-05-17T17:45:54.460018Z",
     "iopub.status.idle": "2021-05-17T17:45:55.275253Z",
     "shell.execute_reply": "2021-05-17T17:45:55.274120Z"
    },
    "papermill": {
     "duration": 0.852057,
     "end_time": "2021-05-17T17:45:55.275507",
     "exception": false,
     "start_time": "2021-05-17T17:45:54.423450",
     "status": "completed"
    },
    "tags": []
   },
   "outputs": [],
   "source": [
    "#Pandas sert a manipuler et analyser les documents\n",
    "import pandas as pd\n",
    "\n",
    "#String sert a manipuler les chaines de cacactere\n",
    "import string\n",
    "\n",
    "#module fournit un ensemble de fonctions qui nous permettent de travailler avec des expressions régulières\n",
    "import re\n",
    "#Il fournit une interface de haut niveau pour créer des graphiques statistiquement informatifs\n",
    "import seaborn as sns\n",
    "\n",
    "#Il donne un message d'avertissement sur une condition particulière qui peut ou non être une erreur\n",
    "import warnings\n",
    "\n",
    "#nous l'utilisons pour ignorer des avertissements spécifiques qui peuvent être ignorés en toute sécurité\n",
    "warnings.filterwarnings('ignore')\n",
    "\n",
    "#Calcule du temps d'execution du program\n",
    "import time"
   ]
  },
  {
   "cell_type": "code",
   "execution_count": 237,
   "id": "foster-afghanistan",
   "metadata": {
    "execution": {
     "iopub.execute_input": "2021-05-17T17:45:55.328556Z",
     "iopub.status.busy": "2021-05-17T17:45:55.327708Z",
     "iopub.status.idle": "2021-05-17T17:45:55.641707Z",
     "shell.execute_reply": "2021-05-17T17:45:55.640474Z"
    },
    "papermill": {
     "duration": 0.342467,
     "end_time": "2021-05-17T17:45:55.641867",
     "exception": false,
     "start_time": "2021-05-17T17:45:55.299400",
     "status": "completed"
    },
    "tags": []
   },
   "outputs": [],
   "source": [
    "#donne  quelques mesures sur le modèle, par exemple la précision\n",
    "from sklearn.metrics import accuracy_score, confusion_matrix, classification_report\n",
    "\n",
    "#TfidVectorizer sert à convertir des chaines de caractère en valeurs numériques\n",
    "from sklearn.feature_extraction.text import TfidfVectorizer\n",
    "\n",
    "#Toutes les opérations de transformations vont être centralisées un seul bloc\n",
    "from sklearn import pipeline\n",
    "\n",
    "#Le modele utilise la logistique regression\n",
    "from sklearn.linear_model import LogisticRegression\n",
    "\n",
    "#Le modele utilise la logistique Naive Bayes\n",
    "from sklearn.naive_bayes import MultinomialNB\n",
    "\n",
    "#sert a diviser la base de données en deux parties,une pour trainer le modele et une pour le tester\n",
    "from sklearn.model_selection import train_test_split\n",
    "\n",
    "#Pour afficher les graphes\n",
    "import matplotlib.pyplot as plt\n",
    "\n",
    "#pour choisir des lignes aleatoire, puisque la base de chaque langue est trop large\n",
    "import random\n"
   ]
  },
  {
   "cell_type": "markdown",
   "id": "insured-abortion",
   "metadata": {
    "papermill": {
     "duration": 0.023329,
     "end_time": "2021-05-17T17:45:55.688989",
     "exception": false,
     "start_time": "2021-05-17T17:45:55.665660",
     "status": "completed"
    },
    "tags": []
   },
   "source": [
    "# La lecture des données"
   ]
  },
  {
   "cell_type": "code",
   "execution_count": 289,
   "id": "cfe6ef51",
   "metadata": {},
   "outputs": [],
   "source": [
    "allemand=open(\"Allemand.csv\", \"r\",encoding=\"utf-8\").readlines()\n",
    "anglais=open(\"Anglais.csv\", \"r\",encoding=\"utf-8\").readlines()\n",
    "arabe=open(\"Arabe.csv\", \"r\",encoding=\"utf-8\").readlines()\n",
    "danish=open(\"Danish.csv\", \"r\",encoding=\"utf-8\").readlines()\n",
    "dutch=open(\"Dutch.csv\", \"r\",encoding=\"utf-8\").readlines()\n",
    "espagnol=open(\"Espagnol.csv\", \"r\",encoding=\"utf-8\").readlines()\n",
    "francais=open(\"Francais.csv\", \"r\",encoding=\"utf-8\").readlines()\n",
    "greek=open(\"Greek.csv\", \"r\",encoding=\"utf-8\").readlines()\n",
    "italien=open(\"Italien.csv\", \"r\",encoding=\"utf-8\").readlines()\n",
    "kannada=open(\"Kannada.csv\", \"r\",encoding=\"utf-8\").readlines()\n",
    "malayalam=open(\"Malayalam.csv\", \"r\",encoding=\"utf-8\").readlines()\n",
    "portuguese=open(\"Portuguese.csv\", \"r\",encoding=\"utf-8\").readlines()\n",
    "russe=open(\"Russe.csv\", \"r\",encoding=\"utf-8\").readlines()\n",
    "swedish=open(\"Swedish.csv\",\"r\",encoding=\"utf-8\").readlines()\n",
    "tamil=open(\"Tamil.csv\",\"r\",encoding=\"utf-8\").readlines()\n",
    "turkie=open(\"Turkie.csv\",\"r\",encoding=\"utf-8\").readlines()"
   ]
  },
  {
   "cell_type": "code",
   "execution_count": 290,
   "id": "32240574",
   "metadata": {},
   "outputs": [],
   "source": [
    "#Netoyyer le texte et enlever les lignes vides\n",
    "def remplacer_char(list_de_car):\n",
    "    return [ phrase.replace('\\n',\"\") for phrase in list_de_car if phrase.replace('\\n',\"\")!=\"\"]"
   ]
  },
  {
   "cell_type": "markdown",
   "id": "30f05e39",
   "metadata": {},
   "source": [
    "# Le code ci-dessous pour vider la base de donne pour des raisons d'amelioration"
   ]
  },
  {
   "cell_type": "code",
   "execution_count": 291,
   "id": "5e8c2c28",
   "metadata": {},
   "outputs": [
    {
     "name": "stdout",
     "output_type": "stream",
     "text": [
      "La base de données est bien vide\n"
     ]
    }
   ],
   "source": [
    "with open(\"database.csv\", \"w\") as file:\n",
    "    file.truncate(0)\n",
    "    print(\"La base de données est bien vide\")"
   ]
  },
  {
   "cell_type": "code",
   "execution_count": 292,
   "id": "4099736b",
   "metadata": {},
   "outputs": [
    {
     "name": "stdout",
     "output_type": "stream",
     "text": [
      "le temps de remplissage de la base de donnees est :  0.01888251304626465\n"
     ]
    }
   ],
   "source": [
    "#Remplir la base de donne pour trainer le modele, avec les textes de differents dictionnaires de langues\n",
    "temps_avant_execution=time.time()\n",
    "data=open(\"database.csv\",\"w\",encoding=\"utf-8\",newline=\"\")\n",
    "data.write(\"Texte,Langue\\n\")\n",
    "langue_list=[anglais,allemand,arabe,danish,dutch,espagnol,\n",
    "             francais,greek,italien,kannada,malayalam\n",
    "             ,portuguese,russe,swedish,tamil,turkie]\n",
    "langue_list_str=[\"allemand\",\"anglais\",\"arabe\",\"danish\",\"dutch\",\"espagnol\",\n",
    "                 \"francais\",\"greek\",\"italien\",\"kannada\",\"malayalam\",\n",
    "                 \"portuguese\",\"russe\",\"swedish\",\"tamil\",\"turkie\"]\n",
    "\n",
    "for lang in langue_list:\n",
    "    for line in remplacer_char(lang):\n",
    "        data.write(line+\"\\n\")\n",
    "\n",
    "print(\"le temps de remplissage de la base de donnees est : \",time.time()-temps_avant_execution)        \n",
    "        "
   ]
  },
  {
   "cell_type": "code",
   "execution_count": 293,
   "id": "industrial-generator",
   "metadata": {
    "execution": {
     "iopub.execute_input": "2021-05-17T17:45:55.741719Z",
     "iopub.status.busy": "2021-05-17T17:45:55.741026Z",
     "iopub.status.idle": "2021-05-17T17:45:56.007030Z",
     "shell.execute_reply": "2021-05-17T17:45:56.006473Z"
    },
    "papermill": {
     "duration": 0.294451,
     "end_time": "2021-05-17T17:45:56.007190",
     "exception": false,
     "start_time": "2021-05-17T17:45:55.712739",
     "status": "completed"
    },
    "tags": []
   },
   "outputs": [],
   "source": [
    "#l'importation de la base de donnees dans lavariable df\n",
    "df = pd.read_csv('database.csv', on_bad_lines='skip')\n",
    "\n",
    "#Supprimer les valeurs NaN et on remis df dans elle meme\n",
    "df=df.dropna()"
   ]
  },
  {
   "cell_type": "code",
   "execution_count": 294,
   "id": "configured-salon",
   "metadata": {
    "execution": {
     "iopub.execute_input": "2021-05-17T17:45:56.067496Z",
     "iopub.status.busy": "2021-05-17T17:45:56.066852Z",
     "iopub.status.idle": "2021-05-17T17:45:56.085368Z",
     "shell.execute_reply": "2021-05-17T17:45:56.084854Z"
    },
    "papermill": {
     "duration": 0.054127,
     "end_time": "2021-05-17T17:45:56.085507",
     "exception": false,
     "start_time": "2021-05-17T17:45:56.031380",
     "status": "completed"
    },
    "tags": []
   },
   "outputs": [
    {
     "data": {
      "text/html": [
       "<div>\n",
       "<style scoped>\n",
       "    .dataframe tbody tr th:only-of-type {\n",
       "        vertical-align: middle;\n",
       "    }\n",
       "\n",
       "    .dataframe tbody tr th {\n",
       "        vertical-align: top;\n",
       "    }\n",
       "\n",
       "    .dataframe thead th {\n",
       "        text-align: right;\n",
       "    }\n",
       "</style>\n",
       "<table border=\"1\" class=\"dataframe\">\n",
       "  <thead>\n",
       "    <tr style=\"text-align: right;\">\n",
       "      <th></th>\n",
       "      <th>Texte</th>\n",
       "      <th>Langue</th>\n",
       "    </tr>\n",
       "  </thead>\n",
       "  <tbody>\n",
       "    <tr>\n",
       "      <th>0</th>\n",
       "      <td>Nature, in the broadest sense, is the natural...</td>\n",
       "      <td>English</td>\n",
       "    </tr>\n",
       "    <tr>\n",
       "      <th>1</th>\n",
       "      <td>\"Nature\" can refer to the phenomena of the phy...</td>\n",
       "      <td>English</td>\n",
       "    </tr>\n",
       "    <tr>\n",
       "      <th>2</th>\n",
       "      <td>The study of nature is a large, if not the onl...</td>\n",
       "      <td>English</td>\n",
       "    </tr>\n",
       "    <tr>\n",
       "      <th>3</th>\n",
       "      <td>Although humans are part of nature, human acti...</td>\n",
       "      <td>English</td>\n",
       "    </tr>\n",
       "    <tr>\n",
       "      <th>4</th>\n",
       "      <td>[1] The word nature is borrowed from the Old F...</td>\n",
       "      <td>English</td>\n",
       "    </tr>\n",
       "  </tbody>\n",
       "</table>\n",
       "</div>"
      ],
      "text/plain": [
       "                                               Texte   Langue\n",
       "0   Nature, in the broadest sense, is the natural...  English\n",
       "1  \"Nature\" can refer to the phenomena of the phy...  English\n",
       "2  The study of nature is a large, if not the onl...  English\n",
       "3  Although humans are part of nature, human acti...  English\n",
       "4  [1] The word nature is borrowed from the Old F...  English"
      ]
     },
     "execution_count": 294,
     "metadata": {},
     "output_type": "execute_result"
    }
   ],
   "source": [
    "#il est utilisé pour renvoyer les 5 premières lignes de la dataset\n",
    "df.head()"
   ]
  },
  {
   "cell_type": "markdown",
   "id": "existing-renewal",
   "metadata": {
    "papermill": {
     "duration": 0.02575,
     "end_time": "2021-05-17T17:45:56.329201",
     "exception": false,
     "start_time": "2021-05-17T17:45:56.303451",
     "status": "completed"
    },
    "tags": []
   },
   "source": [
    "# Information sur la base des données"
   ]
  },
  {
   "cell_type": "code",
   "execution_count": 295,
   "id": "wanted-wallet",
   "metadata": {
    "execution": {
     "iopub.execute_input": "2021-05-17T17:45:56.401850Z",
     "iopub.status.busy": "2021-05-17T17:45:56.400969Z",
     "iopub.status.idle": "2021-05-17T17:45:56.406253Z",
     "shell.execute_reply": "2021-05-17T17:45:56.405385Z"
    },
    "papermill": {
     "duration": 0.051203,
     "end_time": "2021-05-17T17:45:56.406458",
     "exception": false,
     "start_time": "2021-05-17T17:45:56.355255",
     "status": "completed"
    },
    "tags": []
   },
   "outputs": [
    {
     "name": "stdout",
     "output_type": "stream",
     "text": [
      "<class 'pandas.core.frame.DataFrame'>\n",
      "Int64Index: 10274 entries, 0 to 10273\n",
      "Data columns (total 2 columns):\n",
      " #   Column  Non-Null Count  Dtype \n",
      "---  ------  --------------  ----- \n",
      " 0   Texte   10274 non-null  object\n",
      " 1   Langue  10274 non-null  object\n",
      "dtypes: object(2)\n",
      "memory usage: 240.8+ KB\n"
     ]
    }
   ],
   "source": [
    "#Information sur la base des données\n",
    "df.info()"
   ]
  },
  {
   "cell_type": "code",
   "execution_count": 296,
   "id": "private-arrest",
   "metadata": {
    "execution": {
     "iopub.execute_input": "2021-05-17T17:45:56.467990Z",
     "iopub.status.busy": "2021-05-17T17:45:56.467023Z",
     "iopub.status.idle": "2021-05-17T17:45:56.474758Z",
     "shell.execute_reply": "2021-05-17T17:45:56.474043Z"
    },
    "papermill": {
     "duration": 0.040945,
     "end_time": "2021-05-17T17:45:56.474918",
     "exception": false,
     "start_time": "2021-05-17T17:45:56.433973",
     "status": "completed"
    },
    "tags": []
   },
   "outputs": [
    {
     "data": {
      "text/plain": [
       "English       1385\n",
       "French        1014\n",
       "Spanish        819\n",
       "Portugeese     739\n",
       "Italian        698\n",
       "Russian        692\n",
       "Sweedish       676\n",
       "Malayalam      594\n",
       "Dutch          546\n",
       "Arabic         536\n",
       "Turkish        474\n",
       "German         470\n",
       "Tamil          469\n",
       "Danish         428\n",
       "Kannada        369\n",
       "Greek          365\n",
       "Name: Langue, dtype: int64"
      ]
     },
     "execution_count": 296,
     "metadata": {},
     "output_type": "execute_result"
    }
   ],
   "source": [
    "#nombre de ligne qui correspond a chaque langue\n",
    "df.Langue.value_counts()"
   ]
  },
  {
   "cell_type": "markdown",
   "id": "improving-gabriel",
   "metadata": {
    "papermill": {
     "duration": 0.030655,
     "end_time": "2021-05-17T17:45:56.974395",
     "exception": false,
     "start_time": "2021-05-17T17:45:56.943740",
     "status": "completed"
    },
    "tags": []
   },
   "source": [
    "# Prétraitement du texte"
   ]
  },
  {
   "cell_type": "code",
   "execution_count": 297,
   "id": "divided-maple",
   "metadata": {
    "execution": {
     "iopub.execute_input": "2021-05-17T17:45:57.038586Z",
     "iopub.status.busy": "2021-05-17T17:45:57.037966Z",
     "iopub.status.idle": "2021-05-17T17:45:57.042507Z",
     "shell.execute_reply": "2021-05-17T17:45:57.043021Z"
    },
    "papermill": {
     "duration": 0.038299,
     "end_time": "2021-05-17T17:45:57.043185",
     "exception": false,
     "start_time": "2021-05-17T17:45:57.004886",
     "status": "completed"
    },
    "tags": []
   },
   "outputs": [],
   "source": [
    "'''Cette fonction sert à supprimer les symboles\n",
    "et les chiffres dans les textes avant la construction du modèle'''\n",
    "\n",
    "def supprimer_symbol_chiffre(text):  \n",
    "    text = re.sub(r'[{}]'.format(string.punctuation), '', text)\n",
    "    text = re.sub(r'\\d+', '', text)\n",
    "    text = re.sub(r'[@]', '', text)\n",
    "    return text.lower()"
   ]
  },
  {
   "cell_type": "code",
   "execution_count": 298,
   "id": "diverse-fancy",
   "metadata": {
    "execution": {
     "iopub.execute_input": "2021-05-17T17:45:57.107825Z",
     "iopub.status.busy": "2021-05-17T17:45:57.107197Z",
     "iopub.status.idle": "2021-05-17T17:45:57.112268Z",
     "shell.execute_reply": "2021-05-17T17:45:57.111754Z"
    },
    "papermill": {
     "duration": 0.038941,
     "end_time": "2021-05-17T17:45:57.112453",
     "exception": false,
     "start_time": "2021-05-17T17:45:57.073512",
     "status": "completed"
    },
    "tags": []
   },
   "outputs": [],
   "source": [
    "'''Cette fonction supprime les lettres alphabétiques, \n",
    "   son utilité réside dans le traitement des languages \n",
    "   qui ont des alphabets different de l'alphabet latins'''\n",
    "\n",
    "def supprimer_alphabet_latins(text):        \n",
    "        text = re.sub(r'[a-zA-Z]+', '', text)\n",
    "        return text.lower()"
   ]
  },
  {
   "cell_type": "code",
   "execution_count": 299,
   "id": "stable-permission",
   "metadata": {
    "execution": {
     "iopub.execute_input": "2021-05-17T17:45:57.179660Z",
     "iopub.status.busy": "2021-05-17T17:45:57.178975Z",
     "iopub.status.idle": "2021-05-17T17:45:57.644271Z",
     "shell.execute_reply": "2021-05-17T17:45:57.643770Z"
    },
    "papermill": {
     "duration": 0.501256,
     "end_time": "2021-05-17T17:45:57.644420",
     "exception": false,
     "start_time": "2021-05-17T17:45:57.143164",
     "status": "completed"
    },
    "tags": []
   },
   "outputs": [
    {
     "data": {
      "text/plain": [
       "0         Nature, in the broadest sense, is the natural...\n",
       "1        \"Nature\" can refer to the phenomena of the phy...\n",
       "2        The study of nature is a large, if not the onl...\n",
       "3        Although humans are part of nature, human acti...\n",
       "4        [1] The word nature is borrowed from the Old F...\n",
       "                               ...                        \n",
       "10269    hatan ne oldu o günden itibaren sana güzel bir...\n",
       "10270    narcisa ilk başta mücadele ettiği yollarını de...\n",
       "10271    Nasıl' narsisizm artık marian onlara hem olan ...\n",
       "10272    Artık altın ekmek istemeyeceğini mi tahmin edi...\n",
       "10273    terry sen aslında o meleğe biraz benziyorsun a...\n",
       "Length: 10274, dtype: object"
      ]
     },
     "execution_count": 299,
     "metadata": {},
     "output_type": "execute_result"
    }
   ],
   "source": [
    "'''On applique la fonction en haut à la variable df avec la fonction lambda,\n",
    "   elle retorune des textes sans alphabets latins'''\n",
    "li=['Russian','Malyalam','Kannada','Tamil','Arabic']\n",
    "texte_sans_alphabet_latins = df.apply(lambda x: supprimer_alphabet_latins(x.Texte) if x.Langue in li else x.Texte, axis = 1)\n",
    "texte_sans_alphabet_latins"
   ]
  },
  {
   "cell_type": "code",
   "execution_count": 300,
   "id": "forced-behavior",
   "metadata": {
    "execution": {
     "iopub.execute_input": "2021-05-17T17:45:57.726080Z",
     "iopub.status.busy": "2021-05-17T17:45:57.715672Z",
     "iopub.status.idle": "2021-05-17T17:45:58.015541Z",
     "shell.execute_reply": "2021-05-17T17:45:58.014952Z"
    },
    "papermill": {
     "duration": 0.340406,
     "end_time": "2021-05-17T17:45:58.015678",
     "exception": false,
     "start_time": "2021-05-17T17:45:57.675272",
     "status": "completed"
    },
    "tags": []
   },
   "outputs": [
    {
     "data": {
      "text/plain": [
       "0         nature in the broadest sense is the natural p...\n",
       "1        nature can refer to the phenomena of the physi...\n",
       "2        the study of nature is a large if not the only...\n",
       "3        although humans are part of nature human activ...\n",
       "4         the word nature is borrowed from the old fren...\n",
       "                               ...                        \n",
       "10269    hatan ne oldu o günden itibaren sana güzel bir...\n",
       "10270    narcisa ilk başta mücadele ettiği yollarını de...\n",
       "10271    nasıl narsisizm artık marian onlara hem olan h...\n",
       "10272    artık altın ekmek istemeyeceğini mi tahmin edi...\n",
       "10273    terry sen aslında o meleğe biraz benziyorsun a...\n",
       "Length: 10274, dtype: object"
      ]
     },
     "execution_count": 300,
     "metadata": {},
     "output_type": "execute_result"
    }
   ],
   "source": [
    "'''On applique la deuxième fonction en haut à la variable X0;\n",
    "   elle retourne des textes sans caractères spéciaux'''\n",
    "\n",
    "texte_sans_symbols = texte_sans_alphabet_latins.apply(supprimer_symbol_chiffre)\n",
    "texte_sans_symbols"
   ]
  },
  {
   "cell_type": "code",
   "execution_count": 301,
   "id": "golden-stranger",
   "metadata": {
    "execution": {
     "iopub.execute_input": "2021-05-17T17:45:58.083171Z",
     "iopub.status.busy": "2021-05-17T17:45:58.082536Z",
     "iopub.status.idle": "2021-05-17T17:45:58.085086Z",
     "shell.execute_reply": "2021-05-17T17:45:58.084614Z"
    },
    "papermill": {
     "duration": 0.037826,
     "end_time": "2021-05-17T17:45:58.085230",
     "exception": false,
     "start_time": "2021-05-17T17:45:58.047404",
     "status": "completed"
    },
    "tags": []
   },
   "outputs": [],
   "source": [
    "#On récupère la colonne des languages\n",
    "y = df['Langue']"
   ]
  },
  {
   "cell_type": "markdown",
   "id": "single-unknown",
   "metadata": {
    "papermill": {
     "duration": 0.032115,
     "end_time": "2021-05-17T17:45:58.148843",
     "exception": false,
     "start_time": "2021-05-17T17:45:58.116728",
     "status": "completed"
    },
    "tags": []
   },
   "source": [
    "# Création des modèles"
   ]
  },
  {
   "cell_type": "code",
   "execution_count": 302,
   "id": "stable-riverside",
   "metadata": {
    "execution": {
     "iopub.execute_input": "2021-05-17T17:45:58.218514Z",
     "iopub.status.busy": "2021-05-17T17:45:58.217870Z",
     "iopub.status.idle": "2021-05-17T17:45:58.222768Z",
     "shell.execute_reply": "2021-05-17T17:45:58.222240Z"
    },
    "papermill": {
     "duration": 0.041992,
     "end_time": "2021-05-17T17:45:58.222905",
     "exception": false,
     "start_time": "2021-05-17T17:45:58.180913",
     "status": "completed"
    },
    "tags": []
   },
   "outputs": [],
   "source": [
    "'''Cette ligne divise la base de données en deux parties,\n",
    "une pour trainer le modèle et une pour le tester'''\n",
    "\n",
    "x_train, x_test, y_train, y_test = train_test_split(texte_sans_symbols,y, random_state=42)"
   ]
  },
  {
   "cell_type": "code",
   "execution_count": 303,
   "id": "spare-spiritual",
   "metadata": {
    "execution": {
     "iopub.execute_input": "2021-05-17T17:45:58.292423Z",
     "iopub.status.busy": "2021-05-17T17:45:58.291741Z",
     "iopub.status.idle": "2021-05-17T17:45:58.294712Z",
     "shell.execute_reply": "2021-05-17T17:45:58.294087Z"
    },
    "papermill": {
     "duration": 0.039119,
     "end_time": "2021-05-17T17:45:58.294873",
     "exception": false,
     "start_time": "2021-05-17T17:45:58.255754",
     "status": "completed"
    },
    "tags": []
   },
   "outputs": [],
   "source": [
    "#Cette ligne vise à mieux définir l'importance d'un mot pour le document,\n",
    "# elle compte combien de fois un mot apparaît dans le document\n",
    "vectorizer = TfidfVectorizer(ngram_range=(1,3), analyzer='char')"
   ]
  },
  {
   "cell_type": "code",
   "execution_count": 304,
   "id": "wireless-breath",
   "metadata": {
    "execution": {
     "iopub.execute_input": "2021-05-17T17:45:58.363654Z",
     "iopub.status.busy": "2021-05-17T17:45:58.362892Z",
     "iopub.status.idle": "2021-05-17T17:45:58.365114Z",
     "shell.execute_reply": "2021-05-17T17:45:58.365570Z"
    },
    "papermill": {
     "duration": 0.038895,
     "end_time": "2021-05-17T17:45:58.365736",
     "exception": false,
     "start_time": "2021-05-17T17:45:58.326841",
     "status": "completed"
    },
    "tags": []
   },
   "outputs": [],
   "source": [
    "#On construit notre modèle de  régression logistique\n",
    "modelreg = pipeline.Pipeline([('vectorizer', vectorizer),('clf', LogisticRegression())])\n",
    "\n",
    "#On construit notre modèle de Naive Bayes\n",
    "modelbayes = pipeline.Pipeline([('vectorizer', vectorizer),('clf', MultinomialNB())])\n"
   ]
  },
  {
   "cell_type": "code",
   "execution_count": 305,
   "id": "alleged-cholesterol",
   "metadata": {
    "execution": {
     "iopub.execute_input": "2021-05-17T17:45:58.447900Z",
     "iopub.status.busy": "2021-05-17T17:45:58.442755Z",
     "iopub.status.idle": "2021-05-17T17:46:44.836164Z",
     "shell.execute_reply": "2021-05-17T17:46:44.836688Z"
    },
    "papermill": {
     "duration": 46.439274,
     "end_time": "2021-05-17T17:46:44.836870",
     "exception": false,
     "start_time": "2021-05-17T17:45:58.397596",
     "status": "completed"
    },
    "tags": []
   },
   "outputs": [
    {
     "name": "stdout",
     "output_type": "stream",
     "text": [
      "Le temps de la construction du modele  logistique est : 10.18108582496643\n"
     ]
    }
   ],
   "source": [
    "#Cette ligne traine le modèle logistique et ajuster ses paramètres pour minimiser l'erreur\n",
    "temps_debut=time.time()\n",
    "modelreg.fit(x_train,y_train)\n",
    "print(\"Le temps de la construction du modele  logistique est : {}\".format(time.time() - temps_debut))"
   ]
  },
  {
   "cell_type": "code",
   "execution_count": 306,
   "id": "298bb6a9",
   "metadata": {},
   "outputs": [
    {
     "name": "stdout",
     "output_type": "stream",
     "text": [
      "Le temps de la construction du modele Naive Bayes est : 1.049415111541748\n"
     ]
    }
   ],
   "source": [
    "#Cette ligne traine le modèle logistique et ajuster ses paramètres pour minimiser l'erreur\n",
    "temps_debut=time.time()\n",
    "modelbayes.fit(x_train,y_train)\n",
    "print(\"Le temps de la construction du modele Naive Bayes est : {}\".format(time.time() - temps_debut))"
   ]
  },
  {
   "cell_type": "markdown",
   "id": "relevant-question",
   "metadata": {
    "papermill": {
     "duration": 0.032921,
     "end_time": "2021-05-17T17:46:44.901839",
     "exception": false,
     "start_time": "2021-05-17T17:46:44.868918",
     "status": "completed"
    },
    "tags": []
   },
   "source": [
    "# Analyse de la certitude "
   ]
  },
  {
   "cell_type": "code",
   "execution_count": 307,
   "id": "every-attitude",
   "metadata": {
    "execution": {
     "iopub.execute_input": "2021-05-17T17:46:45.023702Z",
     "iopub.status.busy": "2021-05-17T17:46:45.008028Z",
     "iopub.status.idle": "2021-05-17T17:46:46.749027Z",
     "shell.execute_reply": "2021-05-17T17:46:46.748455Z"
    },
    "papermill": {
     "duration": 1.815012,
     "end_time": "2021-05-17T17:46:46.749181",
     "exception": false,
     "start_time": "2021-05-17T17:46:44.934169",
     "status": "completed"
    },
    "tags": []
   },
   "outputs": [],
   "source": [
    "#Construire le vecteur des languages prévu pour logistique regression\n",
    "y_pred_logistic = model.predict(x_test)\n",
    "accuracy_logistic = accuracy_score(y_test,y_pred)\n",
    "cm_logistic = confusion_matrix(y_test,y_pred)"
   ]
  },
  {
   "cell_type": "code",
   "execution_count": 308,
   "id": "2dd582b5",
   "metadata": {},
   "outputs": [],
   "source": [
    "#Construire le vecteur des languages prévu pour Naive Bayes\n",
    "y_pred_bayes = model.predict(x_test)\n",
    "accuracy_bayes = accuracy_score(y_test,y_pred)\n",
    "cm_bayes = confusion_matrix(y_test,y_pred)"
   ]
  },
  {
   "cell_type": "code",
   "execution_count": 309,
   "id": "operating-toilet",
   "metadata": {
    "execution": {
     "iopub.execute_input": "2021-05-17T17:46:46.820063Z",
     "iopub.status.busy": "2021-05-17T17:46:46.819263Z",
     "iopub.status.idle": "2021-05-17T17:46:46.823285Z",
     "shell.execute_reply": "2021-05-17T17:46:46.822652Z"
    },
    "papermill": {
     "duration": 0.041694,
     "end_time": "2021-05-17T17:46:46.823441",
     "exception": false,
     "start_time": "2021-05-17T17:46:46.781747",
     "status": "completed"
    },
    "tags": []
   },
   "outputs": [
    {
     "name": "stdout",
     "output_type": "stream",
     "text": [
      "la précision du modèle logistique regression : : 0.9832619696379914\n",
      "la précision du modèle logistique regression : : 0.9832619696379914\n"
     ]
    }
   ],
   "source": [
    "#affichage de la précision du modele logistique\n",
    "print(\"la précision du modèle logistique regression : :\",accuracy_logistic)\n",
    "\n",
    "#affichage de la précision du modele Naive Bayes\n",
    "print(\"la précision du modèle logistique regression : :\",accuracy_bayes)"
   ]
  },
  {
   "cell_type": "code",
   "execution_count": 322,
   "id": "reserved-shipping",
   "metadata": {
    "execution": {
     "iopub.execute_input": "2021-05-17T17:46:46.927525Z",
     "iopub.status.busy": "2021-05-17T17:46:46.905667Z",
     "iopub.status.idle": "2021-05-17T17:46:47.008792Z",
     "shell.execute_reply": "2021-05-17T17:46:47.009262Z"
    },
    "papermill": {
     "duration": 0.15246,
     "end_time": "2021-05-17T17:46:47.009474",
     "exception": false,
     "start_time": "2021-05-17T17:46:46.857014",
     "status": "completed"
    },
    "scrolled": true,
    "tags": []
   },
   "outputs": [
    {
     "name": "stdout",
     "output_type": "stream",
     "text": [
      "              precision    recall  f1-score   support\n",
      "\n",
      "      Arabic       1.00      0.99      1.00       123\n",
      "      Danish       0.97      0.94      0.95        94\n",
      "       Dutch       0.96      0.96      0.96       142\n",
      "     English       0.99      0.99      0.99       363\n",
      "      French       0.98      1.00      0.99       250\n",
      "      German       0.99      0.97      0.98       133\n",
      "       Greek       1.00      1.00      1.00        94\n",
      "     Italian       0.97      0.98      0.98       152\n",
      "     Kannada       1.00      1.00      1.00        84\n",
      "   Malayalam       1.00      1.00      1.00       140\n",
      "  Portugeese       0.99      0.96      0.97       181\n",
      "     Russian       1.00      1.00      1.00       186\n",
      "     Spanish       0.98      1.00      0.99       210\n",
      "    Sweedish       0.97      0.98      0.98       183\n",
      "       Tamil       1.00      1.00      1.00       117\n",
      "     Turkish       0.98      0.99      0.99       117\n",
      "\n",
      "    accuracy                           0.99      2569\n",
      "   macro avg       0.99      0.98      0.99      2569\n",
      "weighted avg       0.99      0.99      0.99      2569\n",
      "\n"
     ]
    }
   ],
   "source": [
    "#cette ligne affiche quelques différences entre les valeurs réelles et les values prévues pour logistique regression\n",
    "print(classification_report(y_test,y_pred_logistic))"
   ]
  },
  {
   "cell_type": "code",
   "execution_count": 311,
   "id": "ea61af4b",
   "metadata": {},
   "outputs": [
    {
     "name": "stdout",
     "output_type": "stream",
     "text": [
      "              precision    recall  f1-score   support\n",
      "\n",
      "      Arabic       1.00      0.99      1.00       123\n",
      "      Danish       0.97      0.94      0.95        94\n",
      "       Dutch       0.96      0.96      0.96       142\n",
      "     English       0.99      0.99      0.99       363\n",
      "      French       0.98      1.00      0.99       250\n",
      "      German       0.99      0.97      0.98       133\n",
      "       Greek       1.00      1.00      1.00        94\n",
      "     Italian       0.97      0.98      0.98       152\n",
      "     Kannada       1.00      1.00      1.00        84\n",
      "   Malayalam       1.00      1.00      1.00       140\n",
      "  Portugeese       0.99      0.96      0.97       181\n",
      "     Russian       1.00      1.00      1.00       186\n",
      "     Spanish       0.98      1.00      0.99       210\n",
      "    Sweedish       0.97      0.98      0.98       183\n",
      "       Tamil       1.00      1.00      1.00       117\n",
      "     Turkish       0.98      0.99      0.99       117\n",
      "\n",
      "    accuracy                           0.99      2569\n",
      "   macro avg       0.99      0.98      0.99      2569\n",
      "weighted avg       0.99      0.99      0.99      2569\n",
      "\n"
     ]
    }
   ],
   "source": [
    "#cette ligne affiche quelques différences entre les valeurs réelles et les values prévues pour Naive Bayes\n",
    "print(classification_report(y_test,y_pred_bayes))"
   ]
  },
  {
   "cell_type": "markdown",
   "id": "1adf4422",
   "metadata": {},
   "source": [
    "# Carte thermique pour le modele Logistique"
   ]
  },
  {
   "cell_type": "code",
   "execution_count": 323,
   "id": "static-wholesale",
   "metadata": {
    "execution": {
     "iopub.execute_input": "2021-05-17T17:46:47.081451Z",
     "iopub.status.busy": "2021-05-17T17:46:47.080752Z",
     "iopub.status.idle": "2021-05-17T17:46:47.185304Z",
     "shell.execute_reply": "2021-05-17T17:46:47.184669Z"
    },
    "papermill": {
     "duration": 0.142489,
     "end_time": "2021-05-17T17:46:47.185476",
     "exception": false,
     "start_time": "2021-05-17T17:46:47.042987",
     "status": "completed"
    },
    "scrolled": true,
    "tags": []
   },
   "outputs": [
    {
     "data": {
      "image/png": "[encoded data removed]",
      "text/plain": [
       "<Figure size 1080x720 with 2 Axes>"
      ]
     },
     "metadata": {
      "needs_background": "light"
     },
     "output_type": "display_data"
    }
   ],
   "source": [
    "#Description en dessous du graphe\n",
    "plt.figure(figsize=(15,10))\n",
    "sns.heatmap(cm_logistic, annot = True)\n",
    "plt.show()"
   ]
  },
  {
   "cell_type": "markdown",
   "id": "5145884a",
   "metadata": {},
   "source": [
    "La carte thermique ci-dessus fournit un moyen rapide et intuitif d'identifier les domaines dans lesquels le modele fonctionne bien et les domaines dans lesquels il rencontre des difficultés. Par exemple, si les cellules de la diagonale de la carte thermique sont plus lumineuses, cela indique que le modele fait de nombreuses prédictions correctes.\n",
    "\n",
    "Inversement, si les cellules des régions hors diagonale de la carte thermique sont plus lumineuses, cela indique que le modele fait de nombreuses prédictions incorrectes.\n",
    "\n",
    "Dans l'ensemble, la carte thermique d'une matrice de confusion est un moyen efficace de visualiser les performances d'un modele, ce qui facilite l'identification de ses forces et de ses faiblesses et permet de mieux comprendre comment il peut être amélioré."
   ]
  },
  {
   "cell_type": "markdown",
   "id": "923d686c",
   "metadata": {},
   "source": [
    "# Carte thermique pour le modele Naive Bayes "
   ]
  },
  {
   "cell_type": "code",
   "execution_count": 313,
   "id": "e25f292d",
   "metadata": {},
   "outputs": [
    {
     "data": {
      "image/png": "[encoded data removed]",
      "text/plain": [
       "<Figure size 1080x720 with 2 Axes>"
      ]
     },
     "metadata": {
      "needs_background": "light"
     },
     "output_type": "display_data"
    }
   ],
   "source": [
    "#utilisé pour afficher la distribution des valeurs et visualiser les données qui ont de nombreuses valeurs\n",
    "plt.figure(figsize=(15,10))\n",
    "sns.heatmap(cm_bayes, annot = True)\n",
    "plt.show()"
   ]
  },
  {
   "cell_type": "markdown",
   "id": "correct-possible",
   "metadata": {
    "papermill": {
     "duration": 0.033902,
     "end_time": "2021-05-17T17:46:47.253559",
     "exception": false,
     "start_time": "2021-05-17T17:46:47.219657",
     "status": "completed"
    },
    "tags": []
   },
   "source": [
    "# Test du modèle"
   ]
  },
  {
   "cell_type": "code",
   "execution_count": 316,
   "id": "otherwise-arthur",
   "metadata": {
    "execution": {
     "iopub.execute_input": "2021-05-17T17:46:47.329006Z",
     "iopub.status.busy": "2021-05-17T17:46:47.328294Z",
     "iopub.status.idle": "2021-05-17T17:46:47.331337Z",
     "shell.execute_reply": "2021-05-17T17:46:47.330843Z"
    },
    "papermill": {
     "duration": 0.042276,
     "end_time": "2021-05-17T17:46:47.331487",
     "exception": false,
     "start_time": "2021-05-17T17:46:47.289211",
     "status": "completed"
    },
    "tags": []
   },
   "outputs": [],
   "source": [
    "#Fonction de prediction de la langue pour logistique\n",
    "def predire_la_langue_logi(text):\n",
    "    langue = modelreg.predict([text])\n",
    "    print('La language du text est : ',langue[0])\n"
   ]
  },
  {
   "cell_type": "code",
   "execution_count": 317,
   "id": "5788b179",
   "metadata": {},
   "outputs": [],
   "source": [
    "#Fonction de prediction de la langue pour Bayes\n",
    "def predire_la_langue_bayes(text):\n",
    "    langue = modelbayes.predict([text])\n",
    "    print('La language du text est : ',langue[0])"
   ]
  },
  {
   "cell_type": "code",
   "execution_count": 318,
   "id": "transsexual-corrections",
   "metadata": {
    "execution": {
     "iopub.execute_input": "2021-05-17T17:46:47.406730Z",
     "iopub.status.busy": "2021-05-17T17:46:47.405620Z",
     "iopub.status.idle": "2021-05-17T17:46:47.441689Z",
     "shell.execute_reply": "2021-05-17T17:46:47.441114Z"
    },
    "papermill": {
     "duration": 0.076285,
     "end_time": "2021-05-17T17:46:47.441832",
     "exception": false,
     "start_time": "2021-05-17T17:46:47.365547",
     "status": "completed"
    },
    "tags": []
   },
   "outputs": [
    {
     "name": "stdout",
     "output_type": "stream",
     "text": [
      "La language du text est :  English\n",
      "La language du text est :  French\n",
      "La language du text est :  Arabic\n",
      "La language du text est :  German\n",
      "La language du text est :  Spanish\n"
     ]
    }
   ],
   "source": [
    "#Quelques exemples de language pour tester le modèle logistiques\n",
    "\n",
    "\n",
    "# Anglais\n",
    "predire_la_langue_logi(\"MASTER AIMAF IS THE ACTUARIAL MASTER'S DEGREE IN ROUEN\")\n",
    "\n",
    "# Francais\n",
    "predire_la_langue_logi(\"VÉRIFICATION DU MODÈLE DE DÉTECTION DE LA LANGUE\")\n",
    "\n",
    "# Arabe\n",
    "predire_la_langue_logi(\"روان (بالفرنسية: Rouen) هي مدينة وبلدية فرنسية تابعة لإقليم السين البحرية بمنطقة نورماندي بشمال غرب فرنسا.\")\n",
    "\n",
    "#Allemand\n",
    "predire_la_langue_logi(\"ROUEN IST EINE SCHÖNE STADT MIT SCHÖNEN HISTORISCHEN DENKMÄLERN\")\n",
    "\n",
    "#Espagnol\n",
    "predire_la_langue_logi(\"Ruan4 (en francés, Rouen pronunciado /ʁwɑ̃/) es una ciudad y comuna del noroeste de Francia, capital de la región de Normandía y del departamento de Sena Marítimo. Destaca por sus casas con paredes de entramado, sus callejuelas y sus iglesias góticas. Es conocida como la «Ciudad de los Cien Campanarios» y por haber sido escenario en 1431 del martirio de Juana de Arco, condenada y quemada en la hoguera, en la plaza del Vieux Marché.\")\n"
   ]
  },
  {
   "cell_type": "code",
   "execution_count": 319,
   "id": "812850c2",
   "metadata": {},
   "outputs": [
    {
     "name": "stdout",
     "output_type": "stream",
     "text": [
      "La language du text est :  English\n",
      "La language du text est :  French\n",
      "La language du text est :  Arabic\n",
      "La language du text est :  English\n",
      "La language du text est :  Spanish\n"
     ]
    }
   ],
   "source": [
    "#Quelques exemples de language pour tester le modèle Naive Bayes\n",
    "\n",
    "\n",
    "# Anglais\n",
    "predire_la_langue_bayes(\"MASTER AIMAF IS THE ACTUARIAL MASTER'S DEGREE IN ROUEN\")\n",
    "\n",
    "# Francais\n",
    "predire_la_langue_bayes(\"VÉRIFICATION DU MODÈLE DE DÉTECTION DE LA LANGUE\")\n",
    "\n",
    "# Arabe\n",
    "predire_la_langue_bayes(\"روان (بالفرنسية: Rouen) هي مدينة وبلدية فرنسية تابعة لإقليم السين البحرية بمنطقة نورماندي بشمال غرب فرنسا.\")\n",
    "\n",
    "#Allemand\n",
    "predire_la_langue_bayes(\"ROUEN IST EINE SCHÖNE STADT MIT SCHÖNEN HISTORISCHEN DENKMÄLERN\")\n",
    "\n",
    "#Espagnol\n",
    "predire_la_langue_bayes(\"Ruan4 (en francés, Rouen pronunciado /ʁwɑ̃/) es una ciudad y comuna del noroeste de Francia, capital de la región de Normandía y del departamento de Sena Marítimo. Destaca por sus casas con paredes de entramado, sus callejuelas y sus iglesias góticas. Es conocida como la «Ciudad de los Cien Campanarios» y por haber sido escenario en 1431 del martirio de Juana de Arco, condenada y quemada en la hoguera, en la plaza del Vieux Marché.\")\n"
   ]
  },
  {
   "cell_type": "markdown",
   "id": "456d1a7a",
   "metadata": {},
   "source": [
    "# Test du modèle avec des textes  larges"
   ]
  },
  {
   "cell_type": "markdown",
   "id": "f5e0b09c",
   "metadata": {},
   "source": [
    "# Le texte suivant est en anglais pour Naive Bayes \n",
    "\n",
    "\n",
    "France (French: [fʁɑ̃s] Listen), officially the French Republic (French: République française [ʁepyblik frɑ̃sɛz]),[14] is a country primarily located in Western Europe. It also includes overseas regions and territories in the Americas and the Atlantic, Pacific and Indian Oceans,[XII] giving it one of the largest discontiguous exclusive economic zones in the world. Its metropolitan area extends from the Rhine to the Atlantic Ocean and from the Mediterranean Sea to the English Channel and the North Sea; overseas territories include French Guiana in South America, Saint Pierre and Miquelon in the North Atlantic, the French West Indies, and many islands in Oceania and the Indian Ocean. Its eighteen integral regions (five of which are overseas) span a combined area of 643,801 km2 (248,573 sq mi) and contain close to 68 million people (as of July 2022).[5][8]\n"
   ]
  },
  {
   "cell_type": "code",
   "execution_count": 320,
   "id": "2e959248",
   "metadata": {
    "scrolled": true
   },
   "outputs": [
    {
     "name": "stdout",
     "output_type": "stream",
     "text": [
      "La language du text est :  English\n"
     ]
    }
   ],
   "source": [
    "predire_la_langue_bayes(\"France (French: [fʁɑ̃s] Listen), officially the French Republic (French: République française [ʁepyblik frɑ̃sɛz]),[14] is a country primarily located in Western Europe. It also includes overseas regions and territories in the Americas and the Atlantic, Pacific and Indian Oceans,[XII] giving it one of the largest discontiguous exclusive economic zones in the world. Its metropolitan area extends from the Rhine to the Atlantic Ocean and from the Mediterranean Sea to the English Channel and the North Sea; overseas territories include French Guiana in South America, Saint Pierre and Miquelon in the North Atlantic, the French West Indies, and many islands in Oceania and the Indian Ocean. Its eighteen integral regions (five of which are overseas) span a combined area of 643,801 km2 (248,573 sq mi) and contain close to 68 million people (as of July 2022)\")"
   ]
  },
  {
   "cell_type": "markdown",
   "id": "f83c0716",
   "metadata": {},
   "source": [
    "# Le texte suivant est en Dutch pour le modele logistique\n",
    "\n",
    "Frankrijk (Frans: [fʁɑ̃s] Listen), officieel de Franse Republiek (Frans: République française [ʁepyblik frɑ̃sɛz]), [14] is een land dat voornamelijk in West-Europa ligt. Het omvat ook overzeese regio's en gebieden in Amerika en de Atlantische Oceaan, de Stille Oceaan en de Indische Oceaan, [XII] waardoor het een van de grootste niet-aaneengesloten exclusieve economische zones ter wereld is. Het grootstedelijk gebied strekt zich uit van de Rijn tot de Atlantische Oceaan en van de Middellandse Zee tot het Engelse Kanaal en de Noordzee; overzeese gebieden zijn Frans-Guyana in Zuid-Amerika, Saint Pierre en Miquelon in de Noord-Atlantische Oceaan, Frans West-Indië en vele eilanden in Oceanië en de Indische Oceaan. De achttien integrale regio's (waarvan er vijf overzees zijn) beslaan een gecombineerd gebied van 643.801 km2 (248.573 vierkante mijl) en bevatten bijna 68 miljoen mensen (vanaf juli 2022).\n"
   ]
  },
  {
   "cell_type": "code",
   "execution_count": 321,
   "id": "3934faa5",
   "metadata": {},
   "outputs": [
    {
     "name": "stdout",
     "output_type": "stream",
     "text": [
      "La language du text est :  Dutch\n"
     ]
    }
   ],
   "source": [
    "predire_la_langue_logi(\"Frankrijk (Frans: [fʁɑ̃s] Listen), officieel de Franse Republiek (Frans: République française [ʁepyblik frɑ̃sɛz]), [14] is een land dat voornamelijk in West-Europa ligt. Het omvat ook overzeese regio's en gebieden in Amerika en de Atlantische Oceaan, de Stille Oceaan en de Indische Oceaan, [XII] waardoor het een van de grootste niet-aaneengesloten exclusieve economische zones ter wereld is. Het grootstedelijk gebied strekt zich uit van de Rijn tot de Atlantische Oceaan en van de Middellandse Zee tot het Engelse Kanaal en de Noordzee; overzeese gebieden zijn Frans-Guyana in Zuid-Amerika, Saint Pierre en Miquelon in de Noord-Atlantische Oceaan, Frans West-Indië en vele eilanden in Oceanië en de Indische Oceaan. De achttien integrale regio's (waarvan er vijf overzees zijn) beslaan een gecombineerd gebied van 643.801 km2 (248.573 vierkante mijl) en bevatten bijna 68 miljoen mensen (vanaf juli 2022).Frankrijk is een unitaire semi-presidentiële republiek met als hoofdstad Parijs, de grootste stad van het land en het belangrijkste culturele en commerciële centrum; andere grote stedelijke gebieden zijn Marseille, Lyon, Toulouse, Lille, Bordeaux en Nice.Bewoond sinds het paleolithicum, werd het grondgebied van Europees Frankrijk tijdens de ijzertijd bewoond door Keltische stammen die bekend staan ​​als Galliërs. Rome annexeerde het gebied in 51 voor Christus, wat leidde tot een aparte Gallo-Romeinse cultuur die de basis legde voor de Franse taal. De Germaanse Franken vormden het koninkrijk Francia, dat het hart van het Karolingische rijk werd. Het Verdrag van Verdun van 843 verdeelde het rijk, waarbij West-Francië in 987 het koninkrijk Frankrijk werd. In de hoge middeleeuwen was Frankrijk een machtig maar sterk gedecentraliseerd feodaal koninkrijk. Filips II versterkte met succes de koninklijke macht en versloeg zijn rivalen om de omvang van de kroonlanden te verdubbelen; tegen het einde van zijn regering was Frankrijk naar voren gekomen als de machtigste staat van Europa. Van het midden van de 14e tot het midden van de 15e eeuw werd Frankrijk ondergedompeld in een reeks dynastieke conflicten waarbij Engeland betrokken was, gezamenlijk bekend als de Honderdjarige Oorlog, en als resultaat ontstond een duidelijke Franse identiteit. De Franse Renaissance zag kunst en cultuur bloeien, conflicteren met het Huis van Habsburg en de oprichting van een wereldwijd koloniaal rijk, dat tegen de 20e eeuw het op een na grootste ter wereld zou worden. De tweede helft van de 16e eeuw werd gedomineerd door religieuze burgeroorlogen tussen katholieken en hugenoten die het land ernstig verzwakten. Frankrijk kwam opnieuw naar voren als de dominante macht van Europa in de 17e eeuw onder Lodewijk XIV na de Dertigjarige Oorlog. Ontoereikend economisch beleid, onbillijke belastingen en frequente oorlogen (met name een nederlaag in de Zevenjarige Oorlog en kostbare betrokkenheid bij de Amerikaanse Onafhankelijkheidsoorlog) brachten het koninkrijk tegen het einde van de 18e eeuw in een precaire economische situatie. Dit leidde tot de Franse Revolutie van 1789, die het Ancien Régime omver wierp en de Verklaring van de Rechten van de Mens opstelde, die tot op de dag van vandaag de idealen van het land uitdrukt.Frankrijk bereikte zijn politieke en militaire hoogtepunt in het begin van de 19e eeuw onder Napoleon Bonaparte, onderwierp een groot deel van continentaal Europa en vestigde het Eerste Franse Keizerrijk. De Franse Revolutionaire en Napoleontische oorlogen vormden de loop van de Europese en wereldgeschiedenis. De ineenstorting van het rijk luidde een periode van relatieve achteruitgang in, waarin Frankrijk een tumultueuze opeenvolging van regeringen doormaakte tot de oprichting van de Franse Derde Republiek tijdens de Frans-Pruisische oorlog in 1870. De daaropvolgende decennia zagen een periode van optimisme, culturele en wetenschappelijke bloei , evenals economische welvaart, bekend als de Belle Époque. Frankrijk was een van de belangrijkste deelnemers aan de Eerste Wereldoorlog, waaruit het als overwinnaar tevoorschijn kwam tegen hoge menselijke en economische kosten. Het behoorde tot de geallieerde mogendheden van de Tweede Wereldoorlog, maar werd al snel bezet door de asmogendheden in 1940. Na de bevrijding in 1944 werd de kortstondige Vierde Republiek opgericht en later ontbonden in de loop van de Algerijnse oorlog. De huidige Vijfde Republiek werd in 1958 opgericht door Charles de Gaulle. Algerije en de meeste Franse koloniën werden onafhankelijk in de jaren zestig, waarbij de meerderheid nauwe economische en militaire banden met Frankrijk behield.\")"
   ]
  },
  {
   "cell_type": "markdown",
   "id": "ab3f6bb3",
   "metadata": {},
   "source": [
    "# Conclusion .\n",
    "\n",
    "Naive Bayes est un algorithme simple et rapide qui convient parfaitement aux tâches de classification de texte telles que la détection de la langue. Il est basé sur le théorème de Bayes et suppose que les caractéristiques (par exemple les mots dans un texte) sont indépendantes les unes des autres, ce qui n'est souvent pas le cas dans la détection de la langue. Malgré cette limitation, Naive Bayes peut bien fonctionner dans la pratique, en particulier lorsque les données sont volumineuses et que l'ensemble de fonctionnalités n'est pas très complexe.\n",
    "\n",
    "La régression logistique est un algorithme plus complexe que Naive Bayes, mais offre une plus grande flexibilité et la possibilité de modéliser des relations plus complexes entre les caractéristiques. Il est bien adapté aux tâches où les caractéristiques sont fortement corrélées et peut gérer des relations non linéaires entre les caractéristiques. La régression logistique peut également générer la probabilité qu'un échantillon appartienne à chaque classe, ce qui peut être utile pour classer les résultats de la détection de la langue.\n",
    "\n",
    "En conclusion, Naive Bayes est un bon choix pour une détection de langue simple et rapide, tandis que la régression logistique est un meilleur choix pour une détection de langue plus complexe et précise. Le choix entre les deux dépendra des exigences spécifiques d'un projet, telles que la taille et la complexité des données, le niveau de précision souhaité et les ressources informatiques disponibles."
   ]
  }
 ],
 "metadata": {
  "kernelspec": {
   "display_name": "Python 3 (ipykernel)",
   "language": "python",
   "name": "python3"
  },
  "language_info": {
   "codemirror_mode": {
    "name": "ipython",
    "version": 3
   },
   "file_extension": ".py",
   "mimetype": "text/x-python",
   "name": "python",
   "nbconvert_exporter": "python",
   "pygments_lexer": "ipython3",
   "version": "3.9.7"
  },
  "papermill": {
   "default_parameters": {},
   "duration": 62.880813,
   "end_time": "2021-05-17T17:46:49.268362",
   "environment_variables": {},
   "exception": null,
   "input_path": "__notebook__.ipynb",
   "output_path": "__notebook__.ipynb",
   "parameters": {},
   "start_time": "2021-05-17T17:45:46.387549",
   "version": "2.3.3"
  }
 },
 "nbformat": 4,
 "nbformat_minor": 5
}
